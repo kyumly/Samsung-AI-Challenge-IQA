{
 "cells": [
  {
   "cell_type": "code",
   "execution_count": 1,
   "outputs": [],
   "source": [
    "%load_ext autoreload\n",
    "%autoreload 2"
   ],
   "metadata": {
    "collapsed": false
   }
  },
  {
   "cell_type": "code",
   "execution_count": 6,
   "metadata": {
    "collapsed": true
   },
   "outputs": [
    {
     "name": "stderr",
     "output_type": "stream",
     "text": [
      "/Users/kim-seung-gyeom/opt/anaconda3/envs/ml/lib/python3.9/site-packages/torchvision/models/_utils.py:208: UserWarning: The parameter 'pretrained' is deprecated since 0.13 and may be removed in the future, please use 'weights' instead.\n",
      "  warnings.warn(\n",
      "/Users/kim-seung-gyeom/opt/anaconda3/envs/ml/lib/python3.9/site-packages/torchvision/models/_utils.py:223: UserWarning: Arguments other than a weight enum or `None` for 'weights' are deprecated since 0.13 and may be removed in the future. The current behavior is equivalent to passing `weights=ResNet50_Weights.IMAGENET1K_V1`. You can also use `weights=ResNet50_Weights.DEFAULT` to get the most up-to-date weights.\n",
      "  warnings.warn(msg)\n"
     ]
    },
    {
     "data": {
      "text/plain": "<All keys matched successfully>"
     },
     "execution_count": 6,
     "metadata": {},
     "output_type": "execute_result"
    }
   ],
   "source": [
    "import torch\n",
    "\n",
    "from train.models.encoder_resnet import EncoderResnet\n",
    "\n",
    "model_path = 'encoder-model.pt'\n",
    "\n",
    "\n",
    "model = EncoderResnet(512)\n",
    "model.load_state_dict(torch.load(model_path, map_location='cpu'))"
   ]
  },
  {
   "cell_type": "code",
   "execution_count": 9,
   "outputs": [
    {
     "name": "stdout",
     "output_type": "stream",
     "text": [
      "\n"
     ]
    }
   ],
   "source": [
    "from torch.utils.data import DataLoader\n",
    "import dataset as d\n",
    "import pandas as pd\n",
    "test_data = pd.read_csv('./data/open/test_data.csv')\n",
    "test_transform = d.ImageTransForm(224)\n",
    "test_dataset = d.CustomDataset(test_data, 'test', transform=test_transform)\n",
    "test_loader = DataLoader(test_dataset, batch_size=32)\n",
    "print()"
   ],
   "metadata": {
    "collapsed": false
   }
  },
  {
   "cell_type": "code",
   "execution_count": 39,
   "outputs": [
    {
     "name": "stdout",
     "output_type": "stream",
     "text": [
      "torch.Size([32, 3, 224, 224])\n",
      "32\n",
      "32\n",
      "torch.Size([32, 3, 224, 224])\n",
      "32\n",
      "32\n",
      "torch.Size([32, 3, 224, 224])\n",
      "32\n",
      "32\n",
      "torch.Size([32, 3, 224, 224])\n",
      "32\n",
      "32\n",
      "torch.Size([32, 3, 224, 224])\n",
      "32\n",
      "32\n",
      "torch.Size([32, 3, 224, 224])\n",
      "32\n",
      "32\n",
      "torch.Size([32, 3, 224, 224])\n",
      "32\n",
      "32\n",
      "torch.Size([32, 3, 224, 224])\n",
      "32\n",
      "32\n",
      "torch.Size([32, 3, 224, 224])\n",
      "32\n",
      "32\n",
      "torch.Size([32, 3, 224, 224])\n",
      "32\n",
      "32\n",
      "torch.Size([32, 3, 224, 224])\n",
      "32\n",
      "32\n",
      "torch.Size([32, 3, 224, 224])\n",
      "32\n",
      "32\n",
      "torch.Size([32, 3, 224, 224])\n",
      "32\n",
      "32\n",
      "torch.Size([32, 3, 224, 224])\n",
      "32\n",
      "32\n",
      "torch.Size([32, 3, 224, 224])\n"
     ]
    },
    {
     "name": "stderr",
     "output_type": "stream",
     "text": [
      "/Users/kim-seung-gyeom/opt/anaconda3/envs/ml/lib/python3.9/site-packages/PIL/TiffImagePlugin.py:858: UserWarning: Truncated File Read\n",
      "  warnings.warn(str(msg))\n"
     ]
    },
    {
     "name": "stdout",
     "output_type": "stream",
     "text": [
      "32\n",
      "32\n",
      "torch.Size([32, 3, 224, 224])\n",
      "32\n",
      "32\n",
      "torch.Size([32, 3, 224, 224])\n",
      "32\n",
      "32\n",
      "torch.Size([32, 3, 224, 224])\n",
      "32\n",
      "32\n",
      "torch.Size([32, 3, 224, 224])\n",
      "32\n",
      "32\n",
      "torch.Size([32, 3, 224, 224])\n",
      "32\n",
      "32\n",
      "torch.Size([32, 3, 224, 224])\n",
      "32\n",
      "32\n",
      "torch.Size([32, 3, 224, 224])\n",
      "32\n",
      "32\n",
      "torch.Size([32, 3, 224, 224])\n",
      "32\n",
      "32\n",
      "torch.Size([32, 3, 224, 224])\n",
      "32\n",
      "32\n",
      "torch.Size([32, 3, 224, 224])\n",
      "32\n",
      "32\n",
      "torch.Size([32, 3, 224, 224])\n",
      "32\n",
      "32\n",
      "torch.Size([32, 3, 224, 224])\n",
      "32\n",
      "32\n",
      "torch.Size([32, 3, 224, 224])\n",
      "32\n",
      "32\n",
      "torch.Size([32, 3, 224, 224])\n",
      "32\n",
      "32\n",
      "torch.Size([32, 3, 224, 224])\n",
      "32\n",
      "32\n",
      "torch.Size([32, 3, 224, 224])\n",
      "32\n",
      "32\n",
      "torch.Size([32, 3, 224, 224])\n",
      "32\n",
      "32\n",
      "torch.Size([32, 3, 224, 224])\n",
      "32\n",
      "32\n",
      "torch.Size([32, 3, 224, 224])\n",
      "32\n",
      "32\n",
      "torch.Size([32, 3, 224, 224])\n",
      "32\n",
      "32\n",
      "torch.Size([32, 3, 224, 224])\n",
      "32\n",
      "32\n",
      "torch.Size([32, 3, 224, 224])\n",
      "32\n",
      "32\n",
      "torch.Size([32, 3, 224, 224])\n",
      "32\n",
      "32\n",
      "torch.Size([32, 3, 224, 224])\n",
      "32\n",
      "32\n",
      "torch.Size([32, 3, 224, 224])\n",
      "32\n",
      "32\n",
      "torch.Size([32, 3, 224, 224])\n",
      "32\n",
      "32\n",
      "torch.Size([32, 3, 224, 224])\n",
      "32\n",
      "32\n",
      "torch.Size([32, 3, 224, 224])\n",
      "32\n",
      "32\n",
      "torch.Size([32, 3, 224, 224])\n",
      "32\n",
      "32\n",
      "torch.Size([32, 3, 224, 224])\n",
      "32\n",
      "32\n",
      "torch.Size([32, 3, 224, 224])\n",
      "32\n",
      "32\n",
      "torch.Size([32, 3, 224, 224])\n",
      "32\n",
      "32\n",
      "torch.Size([32, 3, 224, 224])\n",
      "32\n",
      "32\n",
      "torch.Size([32, 3, 224, 224])\n",
      "32\n",
      "32\n",
      "torch.Size([32, 3, 224, 224])\n",
      "32\n",
      "32\n",
      "torch.Size([32, 3, 224, 224])\n",
      "32\n",
      "32\n",
      "torch.Size([32, 3, 224, 224])\n",
      "32\n",
      "32\n",
      "torch.Size([32, 3, 224, 224])\n",
      "32\n",
      "32\n",
      "torch.Size([32, 3, 224, 224])\n",
      "32\n",
      "32\n",
      "torch.Size([32, 3, 224, 224])\n",
      "32\n",
      "32\n",
      "torch.Size([32, 3, 224, 224])\n",
      "32\n",
      "32\n",
      "torch.Size([32, 3, 224, 224])\n",
      "32\n",
      "32\n",
      "torch.Size([32, 3, 224, 224])\n",
      "32\n",
      "32\n",
      "torch.Size([32, 3, 224, 224])\n",
      "32\n",
      "32\n",
      "torch.Size([32, 3, 224, 224])\n",
      "32\n",
      "32\n",
      "torch.Size([32, 3, 224, 224])\n",
      "32\n",
      "32\n",
      "torch.Size([32, 3, 224, 224])\n",
      "32\n",
      "32\n",
      "torch.Size([32, 3, 224, 224])\n",
      "32\n",
      "32\n",
      "torch.Size([32, 3, 224, 224])\n",
      "32\n",
      "32\n",
      "torch.Size([32, 3, 224, 224])\n",
      "32\n",
      "32\n",
      "torch.Size([32, 3, 224, 224])\n",
      "32\n",
      "32\n",
      "torch.Size([32, 3, 224, 224])\n",
      "32\n",
      "32\n",
      "torch.Size([32, 3, 224, 224])\n",
      "32\n",
      "32\n",
      "torch.Size([32, 3, 224, 224])\n",
      "32\n",
      "32\n",
      "torch.Size([32, 3, 224, 224])\n",
      "32\n",
      "32\n",
      "torch.Size([32, 3, 224, 224])\n",
      "32\n",
      "32\n",
      "torch.Size([32, 3, 224, 224])\n",
      "32\n",
      "32\n",
      "torch.Size([32, 3, 224, 224])\n",
      "32\n",
      "32\n",
      "torch.Size([32, 3, 224, 224])\n",
      "32\n",
      "32\n",
      "torch.Size([32, 3, 224, 224])\n",
      "32\n",
      "32\n",
      "torch.Size([32, 3, 224, 224])\n",
      "32\n",
      "32\n",
      "torch.Size([32, 3, 224, 224])\n",
      "32\n",
      "32\n",
      "torch.Size([32, 3, 224, 224])\n",
      "32\n",
      "32\n",
      "torch.Size([32, 3, 224, 224])\n",
      "32\n",
      "32\n",
      "torch.Size([32, 3, 224, 224])\n",
      "32\n",
      "32\n",
      "torch.Size([32, 3, 224, 224])\n",
      "32\n",
      "32\n",
      "torch.Size([32, 3, 224, 224])\n",
      "32\n",
      "32\n",
      "torch.Size([32, 3, 224, 224])\n",
      "32\n",
      "32\n",
      "torch.Size([32, 3, 224, 224])\n",
      "32\n",
      "32\n",
      "torch.Size([32, 3, 224, 224])\n",
      "32\n",
      "32\n",
      "torch.Size([32, 3, 224, 224])\n",
      "32\n",
      "32\n",
      "torch.Size([32, 3, 224, 224])\n",
      "32\n",
      "32\n",
      "torch.Size([32, 3, 224, 224])\n",
      "32\n",
      "32\n",
      "torch.Size([32, 3, 224, 224])\n",
      "32\n",
      "32\n",
      "torch.Size([32, 3, 224, 224])\n",
      "32\n",
      "32\n",
      "torch.Size([32, 3, 224, 224])\n",
      "32\n",
      "32\n",
      "torch.Size([32, 3, 224, 224])\n",
      "32\n",
      "32\n",
      "torch.Size([32, 3, 224, 224])\n",
      "32\n",
      "32\n",
      "torch.Size([32, 3, 224, 224])\n",
      "32\n",
      "32\n",
      "torch.Size([32, 3, 224, 224])\n",
      "32\n",
      "32\n",
      "torch.Size([32, 3, 224, 224])\n",
      "32\n",
      "32\n",
      "torch.Size([32, 3, 224, 224])\n",
      "32\n",
      "32\n",
      "torch.Size([32, 3, 224, 224])\n",
      "32\n",
      "32\n",
      "torch.Size([32, 3, 224, 224])\n",
      "32\n",
      "32\n",
      "torch.Size([32, 3, 224, 224])\n",
      "32\n",
      "32\n"
     ]
    }
   ],
   "source": [
    "from sklearn.metrics import mean_squared_error\n",
    "from tqdm import tqdm\n",
    "\n",
    "device = torch.device('cpu')\n",
    "\n",
    "predcit = []\n",
    "mos_y = []\n",
    "a = 0\n",
    "model.eval()\n",
    "with torch.no_grad():\n",
    "    for img, mos, comment in test_loader:\n",
    "        print(img.shape)\n",
    "        x = img.to(device)\n",
    "        y = mos.to(device)\n",
    "        if type(model).__name__ == 'EncoderGoogleNet':\n",
    "           mos_pred = model(x)\n",
    "        else:\n",
    "           out, mos_pred = model(x)\n",
    "        print(len(y.tolist()))\n",
    "        print(len(mos_pred.reshape(-1).tolist()))\n",
    "        predcit += mos_pred.reshape(-1).tolist()\n",
    "        mos_y += y.tolist()\n",
    "        a += 1\n",
    "        if a== 100:\n",
    "            break"
   ],
   "metadata": {
    "collapsed": false
   }
  },
  {
   "cell_type": "code",
   "execution_count": 40,
   "outputs": [
    {
     "data": {
      "text/plain": "3200"
     },
     "execution_count": 40,
     "metadata": {},
     "output_type": "execute_result"
    }
   ],
   "source": [
    "len(mos_y)"
   ],
   "metadata": {
    "collapsed": false
   }
  },
  {
   "cell_type": "code",
   "execution_count": 41,
   "outputs": [
    {
     "data": {
      "text/plain": "3200"
     },
     "execution_count": 41,
     "metadata": {},
     "output_type": "execute_result"
    }
   ],
   "source": [
    "len(predcit)"
   ],
   "metadata": {
    "collapsed": false
   }
  },
  {
   "cell_type": "code",
   "execution_count": 44,
   "outputs": [
    {
     "data": {
      "text/plain": "<Figure size 640x480 with 1 Axes>",
      "image/png": "[encoded data removed]"
     },
     "metadata": {},
     "output_type": "display_data"
    }
   ],
   "source": [
    "import matplotlib.pyplot as plt\n",
    "\n",
    "#plt.axvline(x=train_size, c='r', linestyle='--')\n",
    "plt.plot(predcit[100:300], label='original')\n",
    "plt.plot(mos_y[100:300],label='predicted' )\n",
    "plt.suptitle('Time-Series Prediction')\n",
    "plt.legend(loc='best')\n",
    "plt.show()"
   ],
   "metadata": {
    "collapsed": false
   }
  },
  {
   "cell_type": "code",
   "execution_count": null,
   "outputs": [],
   "source": [],
   "metadata": {
    "collapsed": false
   }
  }
 ],
 "metadata": {
  "kernelspec": {
   "display_name": "Python 3",
   "language": "python",
   "name": "python3"
  },
  "language_info": {
   "codemirror_mode": {
    "name": "ipython",
    "version": 2
   },
   "file_extension": ".py",
   "mimetype": "text/x-python",
   "name": "python",
   "nbconvert_exporter": "python",
   "pygments_lexer": "ipython2",
   "version": "2.7.6"
  }
 },
 "nbformat": 4,
 "nbformat_minor": 0
}
