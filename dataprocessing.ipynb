{
 "cells": [
  {
   "cell_type": "code",
   "execution_count": 1,
   "metadata": {
    "collapsed": true
   },
   "outputs": [],
   "source": [
    "import os\n",
    "import cv2\n",
    "import numpy as np\n",
    "import torch\n",
    "\n"
   ]
  },
  {
   "cell_type": "code",
   "execution_count": 2,
   "metadata": {},
   "outputs": [],
   "source": [
    "from PIL import Image, ImageFile\n",
    "import torchvision.transforms as transforms\n",
    "import torchvision\n",
    "\n",
    "\n",
    "ImageFile.LOAD_TRUNCATED_IMAGES = True"
   ]
  },
  {
   "cell_type": "code",
   "execution_count": 3,
   "metadata": {},
   "outputs": [
    {
     "data": {
      "text/plain": "torch.Size([2, 3, 224, 224])"
     },
     "execution_count": 3,
     "metadata": {},
     "output_type": "execute_result"
    }
   ],
   "source": [
    "import torch\n",
    "\n",
    "a = torchvision.transforms.ToTensor()\n",
    "c = Image.open('data/open/train/000u6xf6ah.jpg').resize((224, 224))\n",
    "k = Image.open('data/open/train/0as7wdakkr.jpg').resize((224, 224))\n",
    "\n",
    "\n",
    "img_list = []\n",
    "s=a(c)\n",
    "q = a(k)\n",
    "\n",
    "img_list.append(s)\n",
    "img_list.append(q)\n",
    "torch.stack(img_list, dim=0).shape\n"
   ]
  },
  {
   "cell_type": "markdown",
   "metadata": {},
   "source": [
    "# 이미지 경로 설정"
   ]
  },
  {
   "cell_type": "code",
   "execution_count": 4,
   "metadata": {},
   "outputs": [],
   "source": [
    "train_dir = './data/open/train/'\n",
    "test_dir = './data/open/test/'"
   ]
  },
  {
   "cell_type": "code",
   "execution_count": 5,
   "metadata": {},
   "outputs": [],
   "source": [
    "train_images_filepath = [os.path.join(train_dir, f) for f in os.listdir(train_dir)]\n",
    "test_images_filepath = [os.path.join(test_dir, f) for f in os.listdir(test_dir)]\n",
    "# img_filepaths = train_images_filepath + test_images_filepath\n",
    "# correct_images_filepaths = [i for i in img_filepaths if cv2.imread(i) is not None]"
   ]
  },
  {
   "cell_type": "code",
   "execution_count": 6,
   "metadata": {},
   "outputs": [
    {
     "name": "stdout",
     "output_type": "stream",
     "text": [
      "torch.Size([3, 224, 224])\n",
      "tensor([0.3171, 0.5547, 0.2492])\n",
      "tensor([0.2213, 0.1895, 0.1647])\n"
     ]
    }
   ],
   "source": [
    "tensor = torchvision.transforms.ToTensor()\n",
    "p = 'data/open/train/002wkuexwb.jpg'\n",
    "img = Image.open(p).resize((224, 224)).convert(\"RGB\")\n",
    "img =tensor(img)\n",
    "print(img.shape)\n",
    "\n",
    "rgb = img.mean(dim=(1,2))\n",
    "std = img.std(dim=(1,2))\n",
    "\n",
    "print(rgb)\n",
    "print(std)\n"
   ]
  },
  {
   "cell_type": "code",
   "execution_count": 7,
   "metadata": {},
   "outputs": [
    {
     "name": "stderr",
     "output_type": "stream",
     "text": [
      "/Users/kim-seung-gyeom/opt/anaconda3/envs/ml/lib/python3.9/site-packages/PIL/TiffImagePlugin.py:858: UserWarning: Truncated File Read\n",
      "  warnings.warn(str(msg))\n",
      "/Users/kim-seung-gyeom/opt/anaconda3/envs/ml/lib/python3.9/site-packages/PIL/TiffImagePlugin.py:858: UserWarning: Corrupt EXIF data.  Expecting to read 2 bytes but only got 0. \n",
      "  warnings.warn(str(msg))\n"
     ]
    }
   ],
   "source": [
    "from util.preprocessing import  get_mea_std\n",
    "train_RGB, train_STD = get_mea_std(train_images_filepath)\n",
    "\n"
   ]
  },
  {
   "cell_type": "code",
   "execution_count": 15,
   "outputs": [],
   "source": [
    "test_RGB, test_STD = get_mea_std(test_images_filepath)"
   ],
   "metadata": {
    "collapsed": false
   }
  },
  {
   "cell_type": "code",
   "execution_count": 17,
   "metadata": {},
   "outputs": [],
   "source": [
    "def show_img(index):\n",
    "    tf = transforms.ToPILImage()\n",
    "    path = train_images_filepath[index]\n",
    "    print(path)\n",
    "    img = Image.open(path).resize((224,224)).convert(\"RGB\")\n",
    "\n",
    "    tensor = torchvision.transforms.ToTensor()\n",
    "    img =tensor(img)\n",
    "\n",
    "    #print(img.shape)\n",
    "    \n",
    "for index, data in enumerate(test_RGB):\n",
    "    if len(data) == 1:\n",
    "        show_img(index)\n",
    "        break"
   ]
  },
  {
   "cell_type": "code",
   "execution_count": 10,
   "metadata": {},
   "outputs": [],
   "source": [
    "from util.preprocessing import get_channel_mean, get_channel_std"
   ]
  },
  {
   "cell_type": "code",
   "execution_count": 18,
   "metadata": {},
   "outputs": [],
   "source": [
    "\n",
    "train_meanR, train_meanG, train_meanB = get_channel_mean(train_RGB)\n",
    "test_meanR, test_meanG, test_meanB = get_channel_mean(test_RGB)\n",
    "\n",
    "train_stdR, train_stdG, train_stdB = get_channel_mean(train_STD)\n",
    "test_stdR, test_stdG, test_stdB = get_channel_mean(test_STD)\n",
    "\n"
   ]
  },
  {
   "cell_type": "code",
   "execution_count": 23,
   "metadata": {},
   "outputs": [
    {
     "name": "stdout",
     "output_type": "stream",
     "text": [
      "훈련 RGB Mean :  0.42008194 0.3838274 0.34902292\n",
      "테스트 RGB Mean :  0.4216005 0.38125762 0.34539804\n",
      "훈련 RGB Std :  0.23926373 0.22593886 0.22363442\n",
      "테스트 RGB Std :  0.23252015 0.21890979 0.21627444\n"
     ]
    }
   ],
   "source": [
    "print(\"훈련 RGB Mean : \", train_meanR, train_meanG, train_meanB)\n",
    "print(\"테스트 RGB Mean : \", test_meanR, test_meanG, test_meanB )\n",
    "\n",
    "print(\"훈련 RGB Std : \", train_stdR, train_stdG, train_stdB)\n",
    "print(\"테스트 RGB Std : \", test_stdR, test_stdG, test_stdB)"
   ]
  },
  {
   "cell_type": "code",
   "execution_count": 16,
   "metadata": {},
   "outputs": [],
   "source": [
    "import pandas as pd\n",
    "\n",
    "df = pd.DataFrame(columns=['r_mean', 'g_mean', 'b_mean'])"
   ]
  },
  {
   "cell_type": "code",
   "execution_count": 17,
   "metadata": {},
   "outputs": [],
   "source": [
    "for i, d in enumerate(train_RGB):\n",
    "    df.loc[i] = d.numpy()\n",
    "df.to_csv(\"mean.csv\")"
   ]
  },
  {
   "cell_type": "code",
   "execution_count": 18,
   "metadata": {},
   "outputs": [],
   "source": [
    "import pandas as pd\n",
    "\n",
    "df = pd.DataFrame(columns=['r_std', 'g_std', 'b_std'])"
   ]
  },
  {
   "cell_type": "code",
   "execution_count": 19,
   "metadata": {},
   "outputs": [],
   "source": [
    "for i, d in enumerate(train_STD):\n",
    "    df.loc[i] = d.numpy()\n",
    "df.to_csv(\"std.csv\")\n"
   ]
  },
  {
   "cell_type": "code",
   "execution_count": 28,
   "metadata": {},
   "outputs": [
    {
     "data": {
      "text/plain": [
       "r_std    0.239264\n",
       "g_std    0.225939\n",
       "b_std    0.223634\n",
       "dtype: float32"
      ]
     },
     "execution_count": 28,
     "metadata": {},
     "output_type": "execute_result"
    }
   ],
   "source": [
    "df.mean(axis=0)"
   ]
  },
  {
   "cell_type": "code",
   "execution_count": null,
   "metadata": {},
   "outputs": [],
   "source": []
  }
 ],
 "metadata": {
  "kernelspec": {
   "display_name": "Python 3",
   "language": "python",
   "name": "python3"
  },
  "language_info": {
   "codemirror_mode": {
    "name": "ipython",
    "version": 3
   },
   "file_extension": ".py",
   "mimetype": "text/x-python",
   "name": "python",
   "nbconvert_exporter": "python",
   "pygments_lexer": "ipython3",
   "version": "3.9.17"
  }
 },
 "nbformat": 4,
 "nbformat_minor": 0
}
